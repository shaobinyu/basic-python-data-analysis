{
 "cells": [
  {
   "cell_type": "markdown",
   "metadata": {},
   "source": [
    "# More API Examples\n",
    "\n",
    "This notebook contains EVEN MORE API examples so you can get an idea of the types of services available. There's a world of API's out there for the taking, and we cannot teach them all to you. We can only teach you how they work in general... the details are 100% up to you!\n"
   ]
  },
  {
   "cell_type": "markdown",
   "metadata": {},
   "source": [
    "# Caller Id/ Get a location for a Phone number\n",
    "\n",
    "This uses the cosmin phone number lookup API as found on https://market.mashape.com/explore \n",
    "\n",
    "This api requires `headers` to be passed into the `get()` request. The API key and the requested output of `json` are sent into the header.\n",
    "\n",
    "Enter a phone number as input like `3154432911` and then the API will output JSON data consisting of caller ID data and GPS coordinates."
   ]
  },
  {
   "cell_type": "code",
   "execution_count": 2,
   "metadata": {},
   "outputs": [
    {
     "name": "stdout",
     "output_type": "stream",
     "text": [
      "Enter your phone number: 3155056722\n"
     ]
    },
    {
     "data": {
      "text/plain": [
       "{'carrier': 'Paetec Communications, Inc. - Ny',\n",
       " 'cbsa_code': '45060',\n",
       " 'city': 'Syracuse',\n",
       " 'county': 'Onondaga',\n",
       " 'latitude': 43.051,\n",
       " 'longitude': -76.1481,\n",
       " 'opencnam': 'Please use \"opencnam-sid\" and \"opencnam-auth-token\" to see OpenCNAM results.',\n",
       " 'phone_number': {'npa': '315', 'nxx': '505', 'xxx': '6722'},\n",
       " 'state': 'New York',\n",
       " 'time_zone': 'Eastern (GMT -05:00)',\n",
       " 'type': 'Landline'}"
      ]
     },
     "execution_count": 2,
     "metadata": {},
     "output_type": "execute_result"
    }
   ],
   "source": [
    "import requests\n",
    "\n",
    "phone = input(\"Enter your phone number: \")\n",
    "params = { 'phone' : phone }\n",
    "headers={ \"X-Mashape-Key\": \"sNi0LJs3rBmshZL7KQOrRWXZqIsBp1XUjhnjsnYUsE6iKo14Nc\",\n",
    "    \"Accept\": \"application/json\" }\n",
    "response = requests.get(\"https://cosmin-us-phone-number-lookup.p.mashape.com/get.php\", params=params, headers=headers )\n",
    "\n",
    "phone_data = response.json()\n",
    "phone_data"
   ]
  },
  {
   "cell_type": "markdown",
   "metadata": {},
   "source": [
    "# Get current exchange rates\n",
    "\n",
    "This example uses http://fixer.io to get the current currency exchange rates.\n"
   ]
  },
  {
   "cell_type": "code",
   "execution_count": 3,
   "metadata": {},
   "outputs": [
    {
     "data": {
      "text/plain": [
       "{'__deprecation_message__': 'This API endpoint is deprecated and will stop working on June 1st, 2018. For more information please visit: https://github.com/fixerAPI/fixer#readme',\n",
       " 'base': 'USD',\n",
       " 'date': '2018-04-09',\n",
       " 'rates': {'AUD': 1.3045,\n",
       "  'BGN': 1.5896,\n",
       "  'BRL': 3.3721,\n",
       "  'CAD': 1.2781,\n",
       "  'CHF': 0.95822,\n",
       "  'CNY': 6.3139,\n",
       "  'CZK': 20.609,\n",
       "  'DKK': 6.0524,\n",
       "  'EUR': 0.81274,\n",
       "  'GBP': 0.7078,\n",
       "  'HKD': 7.8492,\n",
       "  'HRK': 6.0403,\n",
       "  'HUF': 253.66,\n",
       "  'IDR': 13783.0,\n",
       "  'ILS': 3.5271,\n",
       "  'INR': 64.982,\n",
       "  'ISK': 98.586,\n",
       "  'JPY': 107.01,\n",
       "  'KRW': 1070.1,\n",
       "  'MXN': 18.358,\n",
       "  'MYR': 3.872,\n",
       "  'NOK': 7.7928,\n",
       "  'NZD': 1.3712,\n",
       "  'PHP': 52.015,\n",
       "  'PLN': 3.4096,\n",
       "  'RON': 3.7901,\n",
       "  'RUB': 60.235,\n",
       "  'SEK': 8.368,\n",
       "  'SGD': 1.3132,\n",
       "  'THB': 31.27,\n",
       "  'TRY': 4.0652,\n",
       "  'ZAR': 12.123}}"
      ]
     },
     "execution_count": 3,
     "metadata": {},
     "output_type": "execute_result"
    }
   ],
   "source": [
    "import requests\n",
    "\n",
    "params = { 'base' : 'USD' } # US Dollars\n",
    "response = requests.get(\"http://api.fixer.io/latest\", params=params )\n",
    "rates = response.json()\n",
    "rates"
   ]
  },
  {
   "cell_type": "markdown",
   "metadata": {},
   "source": [
    "# GeoIP lookup: Find the lat/lng of an IP Address\n",
    "\n",
    "Every computer on the internet has a unique IP Address. This service when given an IP address will return back where that IP Address is located. Pretty handy API which is commonly used with mobile devices to determine approximate location when the GPS is turned off. "
   ]
  },
  {
   "cell_type": "code",
   "execution_count": 4,
   "metadata": {},
   "outputs": [
    {
     "data": {
      "text/plain": [
       "{'__deprecation_message__': 'This API endpoint is deprecated and will stop working on July 1st, 2018. For more information please visit: https://github.com/apilayer/freegeoip#readme',\n",
       " 'city': 'Syracuse',\n",
       " 'country_code': 'US',\n",
       " 'country_name': 'United States',\n",
       " 'ip': '128.230.182.17',\n",
       " 'latitude': 43.0377,\n",
       " 'longitude': -76.1396,\n",
       " 'metro_code': 555,\n",
       " 'region_code': 'NY',\n",
       " 'region_name': 'New York',\n",
       " 'time_zone': 'America/New_York',\n",
       " 'zip_code': '13244'}"
      ]
     },
     "execution_count": 4,
     "metadata": {},
     "output_type": "execute_result"
    }
   ],
   "source": [
    "ip = \"128.230.182.17\"\n",
    "response = requests.get('http://freegeoip.net/json/' + ip)\n",
    "response.json()"
   ]
  },
  {
   "cell_type": "markdown",
   "metadata": {},
   "source": [
    "## An API for sentiment analysis...\n",
    "\n",
    "Process some text and more here: http://text-processing.com\n"
   ]
  },
  {
   "cell_type": "code",
   "execution_count": 12,
   "metadata": {},
   "outputs": [
    {
     "name": "stdout",
     "output_type": "stream",
     "text": [
      "How are you feeling today? I am very good\n",
      "{'label': 'pos', 'probability': {'neutral': 0.07987993693714308, 'pos': 0.7488870152531759, 'neg': 0.2511129847468241}}\n"
     ]
    }
   ],
   "source": [
    "# sentiment\n",
    "message = input(\"How are you feeling today? \")\n",
    "url = 'http://text-processing.com/api/sentiment/'\n",
    "options = { 'text' : message}\n",
    "response = requests.post(url, data = options)\n",
    "sentiment = response.json()\n",
    "print(sentiment)"
   ]
  },
  {
   "cell_type": "markdown",
   "metadata": {},
   "source": [
    "## Searching iTunes\n",
    "\n",
    "Here's an example of the iTunes search API. I'm searching for \"Mandatory fun\" and printing out the track names."
   ]
  },
  {
   "cell_type": "code",
   "execution_count": 6,
   "metadata": {},
   "outputs": [
    {
     "name": "stdout",
     "output_type": "stream",
     "text": [
      "Word Crimes\n",
      "Tacky\n",
      "NOW That's What I Call Polka!\n",
      "Foil\n",
      "Lame Claim to Fame\n",
      "Inactive\n",
      "Sports Song\n",
      "Mission Statement\n",
      "Handy\n",
      "Jackson Park Express\n",
      "First World Problems\n",
      "My Own Eyes\n",
      "Mandatory Fun\n",
      "Mandatory Fun\n",
      "Mandatory Fun\n",
      "Cash\n",
      "Down\n",
      "Good as Gone\n",
      "Take Me Home\n",
      "Believe\n",
      "Fool's Gold\n",
      "Heaven Help Me\n",
      "The Truth\n",
      "Spinning Round\n",
      "Country Soul\n",
      "Air Traffic Control\n",
      "Koala\n",
      "On the Hillside\n",
      "Spib\n",
      "Waterfall\n",
      "On a Rock\n",
      "Drinks In the Air (feat. Mack)\n"
     ]
    }
   ],
   "source": [
    "term = 'Mandatory Fun'\n",
    "params = { 'term' : term }\n",
    "response = requests.get('https://itunes.apple.com/search', params = params)\n",
    "search = response.json()\n",
    "for r in search['results']:\n",
    "    print(r['trackName'])"
   ]
  },
  {
   "cell_type": "markdown",
   "metadata": {},
   "source": [
    "# Earthquakes anyone?\n",
    "\n",
    "Here's an example of the significant earthquakes from the past week. Information on this API can be found here:\n",
    "\n",
    "http://earthquake.usgs.gov/earthquakes/feed/v1.0/geojson.php \n"
   ]
  },
  {
   "cell_type": "code",
   "execution_count": 7,
   "metadata": {},
   "outputs": [
    {
     "name": "stdout",
     "output_type": "stream",
     "text": [
      "M 4.5 - 27km WSW of Perry, Oklahoma\n",
      "M 4.6 - 21km W of Perry, Oklahoma\n",
      "M 6.3 - 88km WSW of Porgera, Papua New Guinea\n",
      "M 5.3 - 29km SW of Santa Cruz Is. (E end), CA\n",
      "M 5.9 - 40km SW of Puerto El Triunfo, El Salvador\n"
     ]
    }
   ],
   "source": [
    "response = requests.get('https://earthquake.usgs.gov/earthquakes/feed/v1.0/summary/significant_week.geojson')\n",
    "quakes = response.json()\n",
    "for q in quakes['features']:\n",
    "    print(q['properties']['title'])"
   ]
  },
  {
   "cell_type": "code",
   "execution_count": null,
   "metadata": {
    "collapsed": true
   },
   "outputs": [],
   "source": []
  }
 ],
 "metadata": {
  "anaconda-cloud": {},
  "kernelspec": {
   "display_name": "Python 3",
   "language": "python",
   "name": "python3"
  },
  "language_info": {
   "codemirror_mode": {
    "name": "ipython",
    "version": 3
   },
   "file_extension": ".py",
   "mimetype": "text/x-python",
   "name": "python",
   "nbconvert_exporter": "python",
   "pygments_lexer": "ipython3",
   "version": "3.6.4"
  }
 },
 "nbformat": 4,
 "nbformat_minor": 1
}
